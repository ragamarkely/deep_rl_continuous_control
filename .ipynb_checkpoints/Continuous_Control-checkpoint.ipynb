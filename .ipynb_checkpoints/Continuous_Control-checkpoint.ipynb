{
 "cells": [
  {
   "cell_type": "markdown",
   "metadata": {},
   "source": [
    "# Continuous Control\n",
    "\n",
    "---\n",
    "\n",
    "In this notebook, you will learn how to use the Unity ML-Agents environment for the second project of the [Deep Reinforcement Learning Nanodegree](https://www.udacity.com/course/deep-reinforcement-learning-nanodegree--nd893) program.\n",
    "\n",
    "### 1. Start the Environment\n",
    "\n",
    "We begin by importing the necessary packages.  If the code cell below returns an error, please revisit the project instructions to double-check that you have installed [Unity ML-Agents](https://github.com/Unity-Technologies/ml-agents/blob/master/docs/Installation.md) and [NumPy](http://www.numpy.org/)."
   ]
  },
  {
   "cell_type": "code",
   "execution_count": 1,
   "metadata": {},
   "outputs": [],
   "source": [
    "from collections import deque\n",
    "import time\n",
    "from typing import List, Tuple\n",
    "\n",
    "from agent import Agent\n",
    "import matplotlib.pyplot as plt\n",
    "import numpy as np\n",
    "import torch\n",
    "from unityagents import UnityEnvironment"
   ]
  },
  {
   "cell_type": "markdown",
   "metadata": {},
   "source": [
    "Next, we will start the environment!  **_Before running the code cell below_**, change the `file_name` parameter to match the location of the Unity environment that you downloaded.\n",
    "\n",
    "- **Mac**: `\"path/to/Reacher.app\"`\n",
    "- **Windows** (x86): `\"path/to/Reacher_Windows_x86/Reacher.exe\"`\n",
    "- **Windows** (x86_64): `\"path/to/Reacher_Windows_x86_64/Reacher.exe\"`\n",
    "- **Linux** (x86): `\"path/to/Reacher_Linux/Reacher.x86\"`\n",
    "- **Linux** (x86_64): `\"path/to/Reacher_Linux/Reacher.x86_64\"`\n",
    "- **Linux** (x86, headless): `\"path/to/Reacher_Linux_NoVis/Reacher.x86\"`\n",
    "- **Linux** (x86_64, headless): `\"path/to/Reacher_Linux_NoVis/Reacher.x86_64\"`\n",
    "\n",
    "For instance, if you are using a Mac, then you downloaded `Reacher.app`.  If this file is in the same folder as the notebook, then the line below should appear as follows:\n",
    "```\n",
    "env = UnityEnvironment(file_name=\"Reacher.app\")\n",
    "```"
   ]
  },
  {
   "cell_type": "code",
   "execution_count": 2,
   "metadata": {},
   "outputs": [
    {
     "name": "stderr",
     "output_type": "stream",
     "text": [
      "INFO:unityagents:\n",
      "'Academy' started successfully!\n",
      "Unity Academy name: Academy\n",
      "        Number of Brains: 1\n",
      "        Number of External Brains : 1\n",
      "        Lesson number : 0\n",
      "        Reset Parameters :\n",
      "\t\tgoal_size -> 5.0\n",
      "\t\tgoal_speed -> 1.0\n",
      "Unity brain name: ReacherBrain\n",
      "        Number of Visual Observations (per agent): 0\n",
      "        Vector Observation space type: continuous\n",
      "        Vector Observation space size (per agent): 33\n",
      "        Number of stacked Vector Observation: 1\n",
      "        Vector Action space type: continuous\n",
      "        Vector Action space size (per agent): 4\n",
      "        Vector Action descriptions: , , , \n"
     ]
    }
   ],
   "source": [
    "# Get the environment\n",
    "env = UnityEnvironment(file_name='Reacher20.app')"
   ]
  },
  {
   "cell_type": "markdown",
   "metadata": {},
   "source": [
    "Environments contain **_brains_** which are responsible for deciding the actions of their associated agents. Here we check for the first brain available, and set it as the default brain we will be controlling from Python."
   ]
  },
  {
   "cell_type": "code",
   "execution_count": 3,
   "metadata": {},
   "outputs": [],
   "source": [
    "# Get the default brain\n",
    "brain_name = env.brain_names[0]\n",
    "brain = env.brains[brain_name]"
   ]
  },
  {
   "cell_type": "markdown",
   "metadata": {},
   "source": [
    "### 2. Examine the State and Action Spaces\n",
    "\n",
    "In this environment, a double-jointed arm can move to target locations. A reward of `+0.1` is provided for each step that the agent's hand is in the goal location. Thus, the goal of your agent is to maintain its position at the target location for as many time steps as possible.\n",
    "\n",
    "The observation space consists of `33` variables corresponding to position, rotation, velocity, and angular velocities of the arm.  Each action is a vector with four numbers, corresponding to torque applicable to two joints.  Every entry in the action vector must be a number between `-1` and `1`.\n",
    "\n",
    "Run the code cell below to print some information about the environment."
   ]
  },
  {
   "cell_type": "code",
   "execution_count": 4,
   "metadata": {},
   "outputs": [
    {
     "name": "stdout",
     "output_type": "stream",
     "text": [
      "Number of agents: 20\n",
      "Size of each action: 4\n",
      "There are 20 agents. Each observes a state with length: 33\n",
      "The state for the first agent looks like: [ 0.00000000e+00 -4.00000000e+00  0.00000000e+00  1.00000000e+00\n",
      " -0.00000000e+00 -0.00000000e+00 -4.37113883e-08  0.00000000e+00\n",
      "  0.00000000e+00  0.00000000e+00  0.00000000e+00  0.00000000e+00\n",
      "  0.00000000e+00  0.00000000e+00 -1.00000000e+01  0.00000000e+00\n",
      "  1.00000000e+00 -0.00000000e+00 -0.00000000e+00 -4.37113883e-08\n",
      "  0.00000000e+00  0.00000000e+00  0.00000000e+00  0.00000000e+00\n",
      "  0.00000000e+00  0.00000000e+00  5.75471878e+00 -1.00000000e+00\n",
      "  5.55726624e+00  0.00000000e+00  1.00000000e+00  0.00000000e+00\n",
      " -1.68164849e-01]\n"
     ]
    }
   ],
   "source": [
    "# Reset the environment.\n",
    "env_info = env.reset(train_mode=True)[brain_name]\n",
    "\n",
    "# Number of agents.\n",
    "num_agents = len(env_info.agents)\n",
    "print(f\"Number of agents: {num_agents}\")\n",
    "\n",
    "# Dimension of actions.\n",
    "action_size = brain.vector_action_space_size\n",
    "print(f\"Size of each action: {action_size}\")\n",
    "\n",
    "# Dimension of states.\n",
    "states = env_info.vector_observations\n",
    "state_size = states.shape[1]\n",
    "print(f\"There are {states.shape[0]} agents. Each observes a state with length: {state_size}\")\n",
    "print(f\"The state for the first agent looks like: {states[0]}\")"
   ]
  },
  {
   "cell_type": "markdown",
   "metadata": {},
   "source": [
    "### 3. Train a Deep Reinforcement Learning Agent"
   ]
  },
  {
   "cell_type": "code",
   "execution_count": 6,
   "metadata": {},
   "outputs": [],
   "source": [
    "WINDOW_SIZE = 100  # number of episodes to calculate the latest average score.\n",
    "MIN_SCORE = 30\n",
    "\n",
    "def save_agent_parameters(agent: Agent) -> None:\n",
    "    torch.save(agent.actor_local.state_dict(), \"checkpoint_actor.pth\")\n",
    "    torch.save(agent.critic_local.state_dict(), \"checkpoint_critic.pth\")    \n",
    "\n",
    "def train(\n",
    "    agent: Agent,\n",
    "    env: UnityEnvironment,\n",
    "    n_episodes: int = 1000,\n",
    "    max_t: int = 10000,\n",
    ") -> Tuple[List[float], List[float]]:\n",
    "    \"\"\"\n",
    "    Train in an environment with one agent.\n",
    "    \"\"\"\n",
    "    solved = False\n",
    "    scores = []\n",
    "    scores_window = deque(maxlen=WINDOW_SIZE)\n",
    "    brain_name = env.brain_names[0]\n",
    "    \n",
    "    start_time = time.time()\n",
    "    for i_episode in range(1, n_episodes + 1):\n",
    "        state = env.reset(train_mode=True)[brain_name].vector_observations[0]\n",
    "        agent.reset()\n",
    "        score = 0\n",
    "        for _ in range(max_t):\n",
    "            action = agent.act(state)\n",
    "            env_info = env.step(action)[brain_name]\n",
    "            next_state = env_info.vector_observations[0]\n",
    "            reward = env_info.rewards[0]\n",
    "            done = env_info.local_done[0]\n",
    "            \n",
    "            agent.step(state, action, reward, next_state, done)\n",
    "            score += reward\n",
    "            state = next_state\n",
    "            if done:\n",
    "                break\n",
    "            \n",
    "        scores.append(score)\n",
    "        scores_window.append(score)\n",
    "        avg_score = np.mean(scores_window)\n",
    "        if i_episode % WINDOW_SIZE == 0:\n",
    "            print(f\"Episode {i_episode}. Average Score: {avg_score}.\")\n",
    "            curr_time = time.time()\n",
    "            print(f\"{WINDOW_SIZE} episodes take {round(curr_time - start_time)} seconds.\")\n",
    "            start_time = curr_time\n",
    "        if not solved and avg_score >= MIN_SCORE:\n",
    "            print(f\"Environment is solved in {i_episode} episodes! Average score: {avg_score}\")\n",
    "            solved = True\n",
    "            \n",
    "    if solved:\n",
    "        torch.save(agent.actor_local.state_dict(), \"checkpoint_actor.pth\")\n",
    "        torch.save(agent.critic_local.state_dict(), \"checkpoint_critic.pth\")  \n",
    "        \n",
    "    return scores, scores_window\n",
    "\n",
    "\n",
    "PRINT_EVERY = 10\n",
    "UPDATE_EVERY = 20 # time intervals between network update\n",
    "NUM_UPDATES = 10  # number of experience tuples to use for network updates at a specific time step.\n",
    "\n",
    "def train_multiple(\n",
    "    agent: Agent,\n",
    "    env: UnityEnvironment,\n",
    "    n_episodes: int = 200,\n",
    "    max_t: int = 10000,\n",
    ") -> Tuple[List[float], List[float]]:\n",
    "    \"\"\"\n",
    "    Train in an environment with 20 agents.\n",
    "    \"\"\"\n",
    "    solved = False\n",
    "    scores = []\n",
    "    scores_window = deque(maxlen=WINDOW_SIZE)\n",
    "    brain_name = env.brain_names[0]\n",
    "    \n",
    "    start_time = time.time()\n",
    "    for i_episode in range(1, n_episodes + 1):\n",
    "        states = env.reset(train_mode=True)[brain_name].vector_observations\n",
    "        agent.reset()\n",
    "        score = np.zeros(num_agents)\n",
    "        for t in range(max_t):\n",
    "            actions = agent.act(states)\n",
    "            \n",
    "            env_info = env.step(actions)[brain_name]\n",
    "            next_states = env_info.vector_observations\n",
    "            rewards = env_info.rewards\n",
    "            dones = env_info.local_done\n",
    "            time_to_update = (t % UPDATE_EVERY) == 0\n",
    "            update_count = 0\n",
    "            for state, action, reward, next_state, done in zip(states, actions, rewards, next_states, dones):\n",
    "                update = time_to_update and update_count < NUM_UPDATES\n",
    "                agent.step(state, action, reward, next_state, done, update)\n",
    "                update_count += 1\n",
    "            score += rewards\n",
    "            states = next_states\n",
    "            if any(dones):\n",
    "                break\n",
    "            \n",
    "        scores.append(np.mean(score))\n",
    "        scores_window.append(np.mean(score))\n",
    "        avg_score = np.mean(scores_window)\n",
    "        if i_episode % PRINT_EVERY == 0:\n",
    "            print(f\"Episode {i_episode}. Average Score: {avg_score}. Time elapsed: {round(time.time() - start_time)} seconds.\")\n",
    "        if not solved and avg_score >= MIN_SCORE:\n",
    "            print(f\"Environment is solved in {i_episode} episodes! Average score: {avg_score}\")\n",
    "            solved = True\n",
    "            \n",
    "    if solved:\n",
    "        torch.save(agent.actor_local.state_dict(), \"checkpoint_actor.pth\")\n",
    "        torch.save(agent.critic_local.state_dict(), \"checkpoint_critic.pth\")  \n",
    "        \n",
    "    return scores, scores_window"
   ]
  },
  {
   "cell_type": "code",
   "execution_count": 7,
   "metadata": {
    "scrolled": false
   },
   "outputs": [
    {
     "name": "stdout",
     "output_type": "stream",
     "text": [
      "Episode 10. Average Score: 0.702949984287843. Time elapsed: 59 seconds.\n",
      "Episode 20. Average Score: 1.1899749734019858. Time elapsed: 119 seconds.\n",
      "Episode 30. Average Score: 2.038666621098916. Time elapsed: 178 seconds.\n",
      "Episode 40. Average Score: 3.9295249121682723. Time elapsed: 245 seconds.\n",
      "Episode 50. Average Score: 6.537139853883535. Time elapsed: 308 seconds.\n",
      "Episode 60. Average Score: 9.360408124111903. Time elapsed: 374 seconds.\n",
      "Episode 70. Average Score: 12.579299718830734. Time elapsed: 442 seconds.\n",
      "Episode 80. Average Score: 15.388212156046649. Time elapsed: 511 seconds.\n",
      "Episode 90. Average Score: 17.787732935746508. Time elapsed: 580 seconds.\n",
      "Episode 100. Average Score: 19.57557956245169. Time elapsed: 648 seconds.\n",
      "Episode 110. Average Score: 23.135124482889665. Time elapsed: 719 seconds.\n",
      "Episode 120. Average Score: 26.195714414480143. Time elapsed: 790 seconds.\n",
      "Episode 130. Average Score: 29.015804351446217. Time elapsed: 854 seconds.\n",
      "Environment is solved in 135 episodes! Average score: 30.157909325918176\n",
      "Episode 140. Average Score: 31.204069302534684. Time elapsed: 922 seconds.\n",
      "Episode 150. Average Score: 32.805659266736356. Time elapsed: 989 seconds.\n",
      "Episode 160. Average Score: 33.72292424623389. Time elapsed: 1052 seconds.\n",
      "Episode 170. Average Score: 34.072084238429554. Time elapsed: 1114 seconds.\n",
      "Episode 180. Average Score: 34.057054238765495. Time elapsed: 1175 seconds.\n",
      "Episode 190. Average Score: 33.83476924373395. Time elapsed: 1238 seconds.\n",
      "Episode 200. Average Score: 33.79523924461753. Time elapsed: 1300 seconds.\n"
     ]
    }
   ],
   "source": [
    "# Get the Agent.\n",
    "# A DDPG agent is used for this project.\n",
    "# Each of the Actor's and Critic's local and target networks has three fully connected layers.\n",
    "# The model hyperparameters are defined in agent.py\n",
    "agent = Agent(state_size=state_size, action_size=action_size, random_seed=8)\n",
    "\n",
    "# Train the agent.\n",
    "scores, scores_window = train_multiple(agent=agent, env=env)"
   ]
  },
  {
   "cell_type": "code",
   "execution_count": 8,
   "metadata": {},
   "outputs": [
    {
     "data": {
      "image/png": "[encoded data removed]",
      "text/plain": [
       "<Figure size 1080x720 with 1 Axes>"
      ]
     },
     "metadata": {
      "needs_background": "light"
     },
     "output_type": "display_data"
    }
   ],
   "source": [
    "fig, ax = plt.subplots(figsize=(15, 10))\n",
    "ax.plot(scores)\n",
    "ax.set_xlabel(\"Episode\")\n",
    "ax.set_ylabel(\"Reward\");"
   ]
  },
  {
   "cell_type": "markdown",
   "metadata": {},
   "source": [
    "When finished, you can close the environment."
   ]
  },
  {
   "cell_type": "code",
   "execution_count": 9,
   "metadata": {},
   "outputs": [],
   "source": [
    "env.close()"
   ]
  }
 ],
 "metadata": {
  "kernelspec": {
   "display_name": "drlnd",
   "language": "python",
   "name": "drlnd"
  },
  "language_info": {
   "codemirror_mode": {
    "name": "ipython",
    "version": 3
   },
   "file_extension": ".py",
   "mimetype": "text/x-python",
   "name": "python",
   "nbconvert_exporter": "python",
   "pygments_lexer": "ipython3",
   "version": "3.6.13"
  }
 },
 "nbformat": 4,
 "nbformat_minor": 2
}
